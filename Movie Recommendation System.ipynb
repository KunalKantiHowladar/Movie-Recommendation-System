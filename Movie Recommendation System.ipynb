{
 "cells": [
  {
   "cell_type": "markdown",
   "id": "16d005f9",
   "metadata": {},
   "source": [
    "Importing Libraries."
   ]
  },
  {
   "cell_type": "code",
   "execution_count": null,
   "id": "a305842a",
   "metadata": {},
   "outputs": [],
   "source": [
    "import pandas as pd\n",
    "import numpy as np\n",
    "import difflib\n",
    "from sklearn.feature_extraction.text import TfidfVectorizer\n",
    "from sklearn.metrics.pairwise import cosine_similarity"
   ]
  },
  {
   "cell_type": "markdown",
   "id": "6ed27c68-9073-4461-9d50-38bab3701abf",
   "metadata": {},
   "source": [
    "Data Collection and Data Preprocessing"
   ]
  },
  {
   "cell_type": "code",
   "execution_count": null,
   "id": "0cc4343e-7d39-425c-9a97-60a5baf0c781",
   "metadata": {},
   "outputs": [],
   "source": [
    "# Reading data from the dataset and printing first 5 rows from the dataset.\n",
    "movies_data = pd.read_csv('movies.csv')\n",
    "movies_data.head()"
   ]
  },
  {
   "cell_type": "code",
   "execution_count": null,
   "id": "73032530-bcb4-49d5-be8f-4e8b8a40c448",
   "metadata": {},
   "outputs": [],
   "source": [
    "# Selecting relevent features.\n",
    "key_features = ['genres','keywords','tagline','cast','director']\n",
    "print(key_features)"
   ]
  },
  {
   "cell_type": "code",
   "execution_count": null,
   "id": "dbeca21f-613c-4cc5-bbfc-fb5bddb091a7",
   "metadata": {},
   "outputs": [],
   "source": [
    "# Replacing the null values.\n",
    "for feature in key_features:\n",
    "  movies_data[feature] = movies_data[feature].fillna('')\n",
    "  print(movies_data)"
   ]
  },
  {
   "cell_type": "code",
   "execution_count": null,
   "id": "452c0f54-e7ea-48ce-b801-74e54e263fd3",
   "metadata": {},
   "outputs": [],
   "source": [
    "# Combining all the selected features.\n",
    "merged_features = movies_data['genres'] + ' ' + movies_data['keywords'] + ' '+ movies_data['tagline'] + ' ' + movies_data['cast'] + ' ' + movies_data['director']\n",
    "print(merged_features)"
   ]
  },
  {
   "cell_type": "code",
   "execution_count": null,
   "id": "4a45e392-2ce7-4132-9315-27795bffd611",
   "metadata": {},
   "outputs": [],
   "source": [
    "# Converting text data to feature vectors and printing it.\n",
    "vectorizer = TfidfVectorizer()\n",
    "feature_vectors = vectorizer.fit_transform(merged_features)\n",
    "print(feature_vectors)"
   ]
  },
  {
   "cell_type": "markdown",
   "id": "7235afb7-f0e3-4204-acdf-1a129bb2dcac",
   "metadata": {},
   "source": [
    "Cosine Similarity"
   ]
  },
  {
   "cell_type": "code",
   "execution_count": null,
   "id": "a7cd1d07-fc73-477b-b840-c2efc321d25b",
   "metadata": {},
   "outputs": [],
   "source": [
    "# Getting similarity score using cosine similarity.\n",
    "similarity = cosine_similarity(feature_vectors)\n",
    "print(similarity)"
   ]
  },
  {
   "cell_type": "code",
   "execution_count": null,
   "id": "dab833cc-6213-4750-826a-12a995ac337e",
   "metadata": {},
   "outputs": [],
   "source": [
    "# Getting the movie name from the user\n",
    "movie_name = input(\"Enter Your Favourite Movie Name:\")"
   ]
  },
  {
   "cell_type": "code",
   "execution_count": null,
   "id": "b436aa6b-955f-4e3e-bfda-9bf5680ac899",
   "metadata": {},
   "outputs": [],
   "source": [
    "# Creating a list with all the movie names given in the dataset.\n",
    "list_of_titles = movies_data['title'].tolist()\n",
    "print(list_of_titles)"
   ]
  },
  {
   "cell_type": "code",
   "execution_count": null,
   "id": "722311ae-7734-414e-b226-c47adbf196a8",
   "metadata": {},
   "outputs": [],
   "source": [
    "# Finding the closest match for the movie given by the user.\n",
    "find_closest_match = difflib.get_close_matches(movie_name, list_of_titles)\n",
    "print(find_closest_match)"
   ]
  },
  {
   "cell_type": "code",
   "execution_count": null,
   "id": "1eec438c-0c19-4657-be60-490af8953b7b",
   "metadata": {},
   "outputs": [],
   "source": [
    "close_match = find_closest_match[0]\n",
    "print(close_match)"
   ]
  },
  {
   "cell_type": "code",
   "execution_count": null,
   "id": "773fd72b-6790-485d-9935-e52d500ba0ef",
   "metadata": {},
   "outputs": [],
   "source": [
    "# Finding the index of the movie.\n",
    "movie_index = movies_data[movies_data.title == close_match]['index'].values[0]\n",
    "print(movie_index)"
   ]
  },
  {
   "cell_type": "code",
   "execution_count": null,
   "id": "e0e0f738-8e59-4ff5-89f1-3103d13d52e3",
   "metadata": {},
   "outputs": [],
   "source": [
    "# Getting a  list of similar movies.\n",
    "similarity_score = list(enumerate(similarity[movie_index]))\n",
    "print(similarity_score)"
   ]
  },
  {
   "cell_type": "code",
   "execution_count": null,
   "id": "17e189f7-38cf-4c32-8bdc-a05b9897d94e",
   "metadata": {},
   "outputs": [],
   "source": [
    "# Sorting movies based on their similarity score.\n",
    "sorted_movies = sorted(similarity_score, key = lambda x:x[1], reverse = True)\n",
    "print(sorted_movies)"
   ]
  },
  {
   "cell_type": "code",
   "execution_count": null,
   "id": "48b9d2b9-0793-49cb-a42a-183e72a0f5c9",
   "metadata": {},
   "outputs": [],
   "source": [
    "# Printing the name of similar movies based on index.\n",
    "print(\"Movies Suggested For You : \\n \")\n",
    "i = 1\n",
    "for movie in sorted_movies:\n",
    "    index = movie[0]\n",
    "    title_from_index = movies_data[movies_data.index == index]['title'].values[0]\n",
    "    if (i<30):\n",
    "        print(i, '.', title_from_index)\n",
    "        i+=1"
   ]
  },
  {
   "cell_type": "markdown",
   "id": "13d13bf3-467f-4617-9cab-5618ab19abf7",
   "metadata": {},
   "source": [
    "Movie Recommendation System"
   ]
  },
  {
   "cell_type": "code",
   "execution_count": 42,
   "id": "948c4cfb-deb6-4701-8d77-621f719aa7fe",
   "metadata": {},
   "outputs": [
    {
     "name": "stdin",
     "output_type": "stream",
     "text": [
      "Enter Your Favourite Movie Name: Interstellar\n"
     ]
    },
    {
     "name": "stdout",
     "output_type": "stream",
     "text": [
      "Movies Suggested For You : \n",
      " \n",
      "1 . Interstellar\n",
      "2 . The Dark Knight Rises\n",
      "3 . The Matrix\n",
      "4 . The Martian\n",
      "5 . Dear Frankie\n",
      "6 . Argo\n",
      "7 . The Matrix Revolutions\n",
      "8 . The Matrix Reloaded\n",
      "9 . The Terminator\n",
      "10 . Armageddon\n",
      "11 . Terminator Genisys\n",
      "12 . Contact\n",
      "13 . Terminator Salvation\n",
      "14 . The Killer Inside Me\n",
      "15 . Gandhi, My Father\n",
      "16 . The Tree of Life\n",
      "17 . Get Smart\n",
      "18 . Back to the Future\n",
      "19 . Terminator 3: Rise of the Machines\n",
      "20 . The Prestige\n",
      "21 . Batman Begins\n",
      "22 . Dragonslayer\n",
      "23 . WarGames\n",
      "24 . Little Nicky\n",
      "25 . Superman III\n",
      "26 . The Other Side of Heaven\n",
      "27 . House at the End of the Street\n",
      "28 . Good Deeds\n",
      "29 . Mortal Kombat: Annihilation\n"
     ]
    }
   ],
   "source": [
    "movie_name = input(\"Enter Your Favourite Movie Name:\")\n",
    "list_of_titles = movies_data['title'].tolist()\n",
    "find_closest_match = difflib.get_close_matches(movie_name, list_of_titles)\n",
    "close_match = find_closest_match[0]\n",
    "movie_index = movies_data[movies_data.title == close_match]['index'].values[0]\n",
    "similarity_score = list(enumerate(similarity[movie_index]))\n",
    "sorted_movies = sorted(similarity_score, key = lambda x:x[1], reverse = True)\n",
    "print(\"Movies Suggested For You : \\n \")\n",
    "i = 1\n",
    "for movie in sorted_movies:\n",
    "    index = movie[0]\n",
    "    title_from_index = movies_data[movies_data.index == index]['title'].values[0]\n",
    "    if (i<30):\n",
    "        print(i, '.', title_from_index)\n",
    "        i+=1"
   ]
  }
 ],
 "metadata": {
  "kernelspec": {
   "display_name": "Python 3 (ipykernel)",
   "language": "python",
   "name": "python3"
  },
  "language_info": {
   "codemirror_mode": {
    "name": "ipython",
    "version": 3
   },
   "file_extension": ".py",
   "mimetype": "text/x-python",
   "name": "python",
   "nbconvert_exporter": "python",
   "pygments_lexer": "ipython3",
   "version": "3.12.7"
  }
 },
 "nbformat": 4,
 "nbformat_minor": 5
}
